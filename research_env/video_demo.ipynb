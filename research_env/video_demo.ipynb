{
 "cells": [
  {
   "cell_type": "code",
   "execution_count": 1,
   "metadata": {},
   "outputs": [],
   "source": [
    "import cv2\n",
    "import matplotlib.pyplot as plt\n",
    "import numpy as np\n",
    "import os\n",
    "from pathlib import Path\n"
   ]
  },
  {
   "cell_type": "code",
   "execution_count": 2,
   "metadata": {},
   "outputs": [],
   "source": [
    "# webcam and put text\n",
    "\n",
    "cam_idx = 0 # 0 - webcam\n",
    "cap = cv2.VideoCapture(cam_idx)\n",
    "\n",
    "while True:\n",
    "    # Capturing the frame\n",
    "    ret, frame = cap.read()\n",
    "\n",
    "    # if capturing ret willbe true\n",
    "    # if not ret:\n",
    "    #     print(\"Noting captured\")\n",
    "    #     break\n",
    "\n",
    "    # put text on image\n",
    "    font = cv2.FONT_ITALIC\n",
    "    predicted_class = \"Jagan\"  # << from your model\n",
    "    # print(ret)\n",
    "    # print(frame.shape)\n",
    "    cv2.putText(frame, predicted_class,(480//2, 640//2), font, 1, (0, 255, 0), 2)\n",
    "    cv2.imshow(\"vid frame\", frame)\n",
    "    if cv2.waitKey(1) & 0xFF == ord('q'):\n",
    "        break\n",
    "\n",
    "cap.release()\n",
    "cv2.destroyAllWindows()"
   ]
  },
  {
   "cell_type": "code",
   "execution_count": null,
   "metadata": {},
   "outputs": [],
   "source": []
  }
 ],
 "metadata": {
  "interpreter": {
   "hash": "2a518360067798e498214aed5f367155c7512588089406d2ac2e348894e77b6c"
  },
  "kernelspec": {
   "display_name": "Python 3.7.13 (conda)",
   "language": "python",
   "name": "python3"
  },
  "language_info": {
   "codemirror_mode": {
    "name": "ipython",
    "version": 3
   },
   "file_extension": ".py",
   "mimetype": "text/x-python",
   "name": "python",
   "nbconvert_exporter": "python",
   "pygments_lexer": "ipython3",
   "version": "3.7.13"
  },
  "orig_nbformat": 4
 },
 "nbformat": 4,
 "nbformat_minor": 2
}
